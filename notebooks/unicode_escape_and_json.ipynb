{
 "cells": [
  {
   "cell_type": "code",
   "execution_count": 1,
   "metadata": {
    "collapsed": false
   },
   "outputs": [
    {
     "data": {
      "text/plain": [
       "'\\\\u54c8\\\\u54c8'"
      ]
     },
     "execution_count": 1,
     "metadata": {},
     "output_type": "execute_result"
    }
   ],
   "source": [
    "u'哈哈'.encode('unicode-escape')"
   ]
  },
  {
   "cell_type": "code",
   "execution_count": 2,
   "metadata": {
    "collapsed": false
   },
   "outputs": [
    {
     "name": "stdout",
     "output_type": "stream",
     "text": [
      "\\u54c8\\u54c8\n"
     ]
    }
   ],
   "source": [
    "print u'哈哈'.encode('unicode-escape')"
   ]
  },
  {
   "cell_type": "code",
   "execution_count": 3,
   "metadata": {
    "collapsed": true
   },
   "outputs": [],
   "source": [
    "import simplejson"
   ]
  },
  {
   "cell_type": "code",
   "execution_count": 4,
   "metadata": {
    "collapsed": false
   },
   "outputs": [
    {
     "data": {
      "text/plain": [
       "{'h': u'\\u54c8\\u54c8', 'x': '\\xe5\\x93\\x88\\xe5\\x93\\x88'}"
      ]
     },
     "execution_count": 4,
     "metadata": {},
     "output_type": "execute_result"
    }
   ],
   "source": [
    "{'h': u'哈哈', 'x': '哈哈'}"
   ]
  },
  {
   "cell_type": "code",
   "execution_count": 5,
   "metadata": {
    "collapsed": false
   },
   "outputs": [
    {
     "data": {
      "text/plain": [
       "'{\"h\": \"\\\\u54c8\\\\u54c8\", \"x\": \"\\\\u54c8\\\\u54c8\"}'"
      ]
     },
     "execution_count": 5,
     "metadata": {},
     "output_type": "execute_result"
    }
   ],
   "source": [
    "simplejson.dumps({'h': u'哈哈', 'x': '哈哈'})"
   ]
  },
  {
   "cell_type": "code",
   "execution_count": 6,
   "metadata": {
    "collapsed": false
   },
   "outputs": [
    {
     "data": {
      "text/plain": [
       "u'{\"h\": \"\\u54c8\\u54c8\", \"x\": \"\\u54c8\\u54c8\"}'"
      ]
     },
     "execution_count": 6,
     "metadata": {},
     "output_type": "execute_result"
    }
   ],
   "source": [
    "simplejson.dumps({'h': u'哈哈', 'x': '哈哈'}, ensure_ascii=False)"
   ]
  },
  {
   "cell_type": "code",
   "execution_count": 7,
   "metadata": {
    "collapsed": false
   },
   "outputs": [
    {
     "name": "stdout",
     "output_type": "stream",
     "text": [
      "{\"h\": \"\\u54c8\\u54c8\", \"x\": \"\\u54c8\\u54c8\"}\n"
     ]
    }
   ],
   "source": [
    "print simplejson.dumps({'h': u'哈哈', 'x': '哈哈'})"
   ]
  },
  {
   "cell_type": "code",
   "execution_count": 8,
   "metadata": {
    "collapsed": false
   },
   "outputs": [
    {
     "name": "stdout",
     "output_type": "stream",
     "text": [
      "{\"h\": \"哈哈\", \"x\": \"哈哈\"}\n"
     ]
    }
   ],
   "source": [
    "print simplejson.dumps({'h': u'哈哈', 'x': '哈哈'}, ensure_ascii=False)"
   ]
  },
  {
   "cell_type": "code",
   "execution_count": 9,
   "metadata": {
    "collapsed": false
   },
   "outputs": [
    {
     "data": {
      "text/plain": [
       "\"{'h': u'\\\\u54c8\\\\u54c8', 'x': '\\\\xe5\\\\x93\\\\x88\\\\xe5\\\\x93\\\\x88'}\""
      ]
     },
     "execution_count": 9,
     "metadata": {},
     "output_type": "execute_result"
    }
   ],
   "source": [
    "str({'h': u'哈哈', 'x': '哈哈'})"
   ]
  },
  {
   "cell_type": "code",
   "execution_count": 10,
   "metadata": {
    "collapsed": false
   },
   "outputs": [
    {
     "data": {
      "text/plain": [
       "u\"{'h': u'\\u54c8\\u54c8', 'x': '\\xe5\\x93\\x88\\xe5\\x93\\x88'}\""
      ]
     },
     "execution_count": 10,
     "metadata": {},
     "output_type": "execute_result"
    }
   ],
   "source": [
    "str({'h': u'哈哈', 'x': '哈哈'}).decode('unicode-escape')"
   ]
  },
  {
   "cell_type": "code",
   "execution_count": 11,
   "metadata": {
    "collapsed": false
   },
   "outputs": [
    {
     "name": "stdout",
     "output_type": "stream",
     "text": [
      "{'h': u'哈哈', 'x': 'åå'}\n"
     ]
    }
   ],
   "source": [
    "print str({'h': u'哈哈', 'x': '哈哈'}).decode('unicode-escape')"
   ]
  },
  {
   "cell_type": "code",
   "execution_count": 12,
   "metadata": {
    "collapsed": false
   },
   "outputs": [
    {
     "name": "stdout",
     "output_type": "stream",
     "text": [
      "{'h': u'\\u54c8\\u54c8', 'x': '\\xe5\\x93\\x88\\xe5\\x93\\x88'}\n"
     ]
    }
   ],
   "source": [
    "print {'h': u'哈哈', 'x': '哈哈'}"
   ]
  },
  {
   "cell_type": "code",
   "execution_count": null,
   "metadata": {
    "collapsed": true
   },
   "outputs": [],
   "source": []
  }
 ],
 "metadata": {
  "kernelspec": {
   "display_name": "Python 2",
   "language": "python",
   "name": "python2"
  },
  "language_info": {
   "codemirror_mode": {
    "name": "ipython",
    "version": 2
   },
   "file_extension": ".py",
   "mimetype": "text/x-python",
   "name": "python",
   "nbconvert_exporter": "python",
   "pygments_lexer": "ipython2",
   "version": "2.7.11"
  }
 },
 "nbformat": 4,
 "nbformat_minor": 0
}
